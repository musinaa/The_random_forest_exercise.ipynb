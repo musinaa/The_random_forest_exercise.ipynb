{
  "cells": [
    {
      "cell_type": "markdown",
      "metadata": {
        "id": "view-in-github",
        "colab_type": "text"
      },
      "source": [
        "<a href=\"https://colab.research.google.com/github/musinaa/The_random_forest_exercise.ipynb/blob/eda/The_random_forest_exercise.ipynb\" target=\"_parent\"><img src=\"https://colab.research.google.com/assets/colab-badge.svg\" alt=\"Open In Colab\"/></a>"
      ]
    },
    {
      "cell_type": "markdown",
      "metadata": {
        "id": "Ee-v8I_P8rfp"
      },
      "source": [
        "<div align=\"center\" style=\" font-size: 80%; text-align: center; margin: 0 auto\">\n",
        "<img src=\"https://raw.githubusercontent.com/Explore-AI/Pictures/master/Python-Notebook-Banners/Exercise.png\"  style=\"display: block; margin-left: auto; margin-right: auto;\";/>\n",
        "</div>\n",
        "\n",
        "# Exercise: The random forest\n",
        "© ExploreAI Academy\n",
        "\n",
        "In this exercise, we build, evaluate and compare random forest regression models."
      ]
    },
    {
      "cell_type": "markdown",
      "metadata": {
        "id": "ITqrvAqq8xSC"
      },
      "source": [
        "## Learning objectives\n",
        "\n",
        "By the end of this train, you should be able to:\n",
        "* Build a random forest regression model in Python.\n",
        "* Experiment with different number of trees.\n",
        "* Evaluate feature importance using a random forest."
      ]
    },
    {
      "cell_type": "markdown",
      "metadata": {
        "id": "Pj1jQCwHdb6N"
      },
      "source": [
        "## Exercises\n",
        "\n",
        "In this exercise, we will be using the `Crop_yield` dataset that contains various factors that could influence the yield of a particular crop across different regions."
      ]
    },
    {
      "cell_type": "markdown",
      "metadata": {
        "id": "iO8jscq_db6O"
      },
      "source": [
        "### Import libraries and dataset"
      ]
    },
    {
      "cell_type": "code",
      "execution_count": 1,
      "metadata": {
        "id": "nmEs2D05db6P"
      },
      "outputs": [],
      "source": [
        "import numpy as np\n",
        "import pandas as pd\n",
        "from sklearn.preprocessing import StandardScaler\n",
        "from sklearn.model_selection import train_test_split\n",
        "from sklearn.ensemble import RandomForestRegressor\n",
        "from sklearn import metrics"
      ]
    },
    {
      "cell_type": "code",
      "execution_count": 2,
      "metadata": {
        "colab": {
          "base_uri": "https://localhost:8080/",
          "height": 226
        },
        "id": "K6LEfMSudb6S",
        "outputId": "63917a5c-f78c-42a0-c4dd-444a7114e823"
      },
      "outputs": [
        {
          "output_type": "execute_result",
          "data": {
            "text/plain": [
              "  Region  Temperature    Rainfall Soil_Type  Fertilizer_Usage  \\\n",
              "0   East    23.152156  803.362573    Clayey        204.792011   \n",
              "1   West    19.382419  571.567670     Sandy        256.201737   \n",
              "2  North    27.895890   -8.699637     Loamy        222.202626   \n",
              "3   East    26.741361  897.426194     Loamy        187.984090   \n",
              "4   East    19.090286  649.384694     Loamy        110.459549   \n",
              "\n",
              "   Pesticide_Usage  Irrigation Crop_Variety      Yield  \n",
              "0        20.767590           1    Variety B  40.316318  \n",
              "1        49.290242           0    Variety A  26.846639  \n",
              "2        25.316121           0    Variety C  -0.323558  \n",
              "3        17.115362           0    Variety C  45.440871  \n",
              "4        24.068804           1    Variety B  35.478118  "
            ],
            "text/html": [
              "\n",
              "  <div id=\"df-e2959db0-7dc6-4ffe-ad77-b5669a9e0774\" class=\"colab-df-container\">\n",
              "    <div>\n",
              "<style scoped>\n",
              "    .dataframe tbody tr th:only-of-type {\n",
              "        vertical-align: middle;\n",
              "    }\n",
              "\n",
              "    .dataframe tbody tr th {\n",
              "        vertical-align: top;\n",
              "    }\n",
              "\n",
              "    .dataframe thead th {\n",
              "        text-align: right;\n",
              "    }\n",
              "</style>\n",
              "<table border=\"1\" class=\"dataframe\">\n",
              "  <thead>\n",
              "    <tr style=\"text-align: right;\">\n",
              "      <th></th>\n",
              "      <th>Region</th>\n",
              "      <th>Temperature</th>\n",
              "      <th>Rainfall</th>\n",
              "      <th>Soil_Type</th>\n",
              "      <th>Fertilizer_Usage</th>\n",
              "      <th>Pesticide_Usage</th>\n",
              "      <th>Irrigation</th>\n",
              "      <th>Crop_Variety</th>\n",
              "      <th>Yield</th>\n",
              "    </tr>\n",
              "  </thead>\n",
              "  <tbody>\n",
              "    <tr>\n",
              "      <th>0</th>\n",
              "      <td>East</td>\n",
              "      <td>23.152156</td>\n",
              "      <td>803.362573</td>\n",
              "      <td>Clayey</td>\n",
              "      <td>204.792011</td>\n",
              "      <td>20.767590</td>\n",
              "      <td>1</td>\n",
              "      <td>Variety B</td>\n",
              "      <td>40.316318</td>\n",
              "    </tr>\n",
              "    <tr>\n",
              "      <th>1</th>\n",
              "      <td>West</td>\n",
              "      <td>19.382419</td>\n",
              "      <td>571.567670</td>\n",
              "      <td>Sandy</td>\n",
              "      <td>256.201737</td>\n",
              "      <td>49.290242</td>\n",
              "      <td>0</td>\n",
              "      <td>Variety A</td>\n",
              "      <td>26.846639</td>\n",
              "    </tr>\n",
              "    <tr>\n",
              "      <th>2</th>\n",
              "      <td>North</td>\n",
              "      <td>27.895890</td>\n",
              "      <td>-8.699637</td>\n",
              "      <td>Loamy</td>\n",
              "      <td>222.202626</td>\n",
              "      <td>25.316121</td>\n",
              "      <td>0</td>\n",
              "      <td>Variety C</td>\n",
              "      <td>-0.323558</td>\n",
              "    </tr>\n",
              "    <tr>\n",
              "      <th>3</th>\n",
              "      <td>East</td>\n",
              "      <td>26.741361</td>\n",
              "      <td>897.426194</td>\n",
              "      <td>Loamy</td>\n",
              "      <td>187.984090</td>\n",
              "      <td>17.115362</td>\n",
              "      <td>0</td>\n",
              "      <td>Variety C</td>\n",
              "      <td>45.440871</td>\n",
              "    </tr>\n",
              "    <tr>\n",
              "      <th>4</th>\n",
              "      <td>East</td>\n",
              "      <td>19.090286</td>\n",
              "      <td>649.384694</td>\n",
              "      <td>Loamy</td>\n",
              "      <td>110.459549</td>\n",
              "      <td>24.068804</td>\n",
              "      <td>1</td>\n",
              "      <td>Variety B</td>\n",
              "      <td>35.478118</td>\n",
              "    </tr>\n",
              "  </tbody>\n",
              "</table>\n",
              "</div>\n",
              "    <div class=\"colab-df-buttons\">\n",
              "\n",
              "  <div class=\"colab-df-container\">\n",
              "    <button class=\"colab-df-convert\" onclick=\"convertToInteractive('df-e2959db0-7dc6-4ffe-ad77-b5669a9e0774')\"\n",
              "            title=\"Convert this dataframe to an interactive table.\"\n",
              "            style=\"display:none;\">\n",
              "\n",
              "  <svg xmlns=\"http://www.w3.org/2000/svg\" height=\"24px\" viewBox=\"0 -960 960 960\">\n",
              "    <path d=\"M120-120v-720h720v720H120Zm60-500h600v-160H180v160Zm220 220h160v-160H400v160Zm0 220h160v-160H400v160ZM180-400h160v-160H180v160Zm440 0h160v-160H620v160ZM180-180h160v-160H180v160Zm440 0h160v-160H620v160Z\"/>\n",
              "  </svg>\n",
              "    </button>\n",
              "\n",
              "  <style>\n",
              "    .colab-df-container {\n",
              "      display:flex;\n",
              "      gap: 12px;\n",
              "    }\n",
              "\n",
              "    .colab-df-convert {\n",
              "      background-color: #E8F0FE;\n",
              "      border: none;\n",
              "      border-radius: 50%;\n",
              "      cursor: pointer;\n",
              "      display: none;\n",
              "      fill: #1967D2;\n",
              "      height: 32px;\n",
              "      padding: 0 0 0 0;\n",
              "      width: 32px;\n",
              "    }\n",
              "\n",
              "    .colab-df-convert:hover {\n",
              "      background-color: #E2EBFA;\n",
              "      box-shadow: 0px 1px 2px rgba(60, 64, 67, 0.3), 0px 1px 3px 1px rgba(60, 64, 67, 0.15);\n",
              "      fill: #174EA6;\n",
              "    }\n",
              "\n",
              "    .colab-df-buttons div {\n",
              "      margin-bottom: 4px;\n",
              "    }\n",
              "\n",
              "    [theme=dark] .colab-df-convert {\n",
              "      background-color: #3B4455;\n",
              "      fill: #D2E3FC;\n",
              "    }\n",
              "\n",
              "    [theme=dark] .colab-df-convert:hover {\n",
              "      background-color: #434B5C;\n",
              "      box-shadow: 0px 1px 3px 1px rgba(0, 0, 0, 0.15);\n",
              "      filter: drop-shadow(0px 1px 2px rgba(0, 0, 0, 0.3));\n",
              "      fill: #FFFFFF;\n",
              "    }\n",
              "  </style>\n",
              "\n",
              "    <script>\n",
              "      const buttonEl =\n",
              "        document.querySelector('#df-e2959db0-7dc6-4ffe-ad77-b5669a9e0774 button.colab-df-convert');\n",
              "      buttonEl.style.display =\n",
              "        google.colab.kernel.accessAllowed ? 'block' : 'none';\n",
              "\n",
              "      async function convertToInteractive(key) {\n",
              "        const element = document.querySelector('#df-e2959db0-7dc6-4ffe-ad77-b5669a9e0774');\n",
              "        const dataTable =\n",
              "          await google.colab.kernel.invokeFunction('convertToInteractive',\n",
              "                                                    [key], {});\n",
              "        if (!dataTable) return;\n",
              "\n",
              "        const docLinkHtml = 'Like what you see? Visit the ' +\n",
              "          '<a target=\"_blank\" href=https://colab.research.google.com/notebooks/data_table.ipynb>data table notebook</a>'\n",
              "          + ' to learn more about interactive tables.';\n",
              "        element.innerHTML = '';\n",
              "        dataTable['output_type'] = 'display_data';\n",
              "        await google.colab.output.renderOutput(dataTable, element);\n",
              "        const docLink = document.createElement('div');\n",
              "        docLink.innerHTML = docLinkHtml;\n",
              "        element.appendChild(docLink);\n",
              "      }\n",
              "    </script>\n",
              "  </div>\n",
              "\n",
              "\n",
              "<div id=\"df-a68beaf0-fedc-4a48-9b3e-488462029236\">\n",
              "  <button class=\"colab-df-quickchart\" onclick=\"quickchart('df-a68beaf0-fedc-4a48-9b3e-488462029236')\"\n",
              "            title=\"Suggest charts\"\n",
              "            style=\"display:none;\">\n",
              "\n",
              "<svg xmlns=\"http://www.w3.org/2000/svg\" height=\"24px\"viewBox=\"0 0 24 24\"\n",
              "     width=\"24px\">\n",
              "    <g>\n",
              "        <path d=\"M19 3H5c-1.1 0-2 .9-2 2v14c0 1.1.9 2 2 2h14c1.1 0 2-.9 2-2V5c0-1.1-.9-2-2-2zM9 17H7v-7h2v7zm4 0h-2V7h2v10zm4 0h-2v-4h2v4z\"/>\n",
              "    </g>\n",
              "</svg>\n",
              "  </button>\n",
              "\n",
              "<style>\n",
              "  .colab-df-quickchart {\n",
              "      --bg-color: #E8F0FE;\n",
              "      --fill-color: #1967D2;\n",
              "      --hover-bg-color: #E2EBFA;\n",
              "      --hover-fill-color: #174EA6;\n",
              "      --disabled-fill-color: #AAA;\n",
              "      --disabled-bg-color: #DDD;\n",
              "  }\n",
              "\n",
              "  [theme=dark] .colab-df-quickchart {\n",
              "      --bg-color: #3B4455;\n",
              "      --fill-color: #D2E3FC;\n",
              "      --hover-bg-color: #434B5C;\n",
              "      --hover-fill-color: #FFFFFF;\n",
              "      --disabled-bg-color: #3B4455;\n",
              "      --disabled-fill-color: #666;\n",
              "  }\n",
              "\n",
              "  .colab-df-quickchart {\n",
              "    background-color: var(--bg-color);\n",
              "    border: none;\n",
              "    border-radius: 50%;\n",
              "    cursor: pointer;\n",
              "    display: none;\n",
              "    fill: var(--fill-color);\n",
              "    height: 32px;\n",
              "    padding: 0;\n",
              "    width: 32px;\n",
              "  }\n",
              "\n",
              "  .colab-df-quickchart:hover {\n",
              "    background-color: var(--hover-bg-color);\n",
              "    box-shadow: 0 1px 2px rgba(60, 64, 67, 0.3), 0 1px 3px 1px rgba(60, 64, 67, 0.15);\n",
              "    fill: var(--button-hover-fill-color);\n",
              "  }\n",
              "\n",
              "  .colab-df-quickchart-complete:disabled,\n",
              "  .colab-df-quickchart-complete:disabled:hover {\n",
              "    background-color: var(--disabled-bg-color);\n",
              "    fill: var(--disabled-fill-color);\n",
              "    box-shadow: none;\n",
              "  }\n",
              "\n",
              "  .colab-df-spinner {\n",
              "    border: 2px solid var(--fill-color);\n",
              "    border-color: transparent;\n",
              "    border-bottom-color: var(--fill-color);\n",
              "    animation:\n",
              "      spin 1s steps(1) infinite;\n",
              "  }\n",
              "\n",
              "  @keyframes spin {\n",
              "    0% {\n",
              "      border-color: transparent;\n",
              "      border-bottom-color: var(--fill-color);\n",
              "      border-left-color: var(--fill-color);\n",
              "    }\n",
              "    20% {\n",
              "      border-color: transparent;\n",
              "      border-left-color: var(--fill-color);\n",
              "      border-top-color: var(--fill-color);\n",
              "    }\n",
              "    30% {\n",
              "      border-color: transparent;\n",
              "      border-left-color: var(--fill-color);\n",
              "      border-top-color: var(--fill-color);\n",
              "      border-right-color: var(--fill-color);\n",
              "    }\n",
              "    40% {\n",
              "      border-color: transparent;\n",
              "      border-right-color: var(--fill-color);\n",
              "      border-top-color: var(--fill-color);\n",
              "    }\n",
              "    60% {\n",
              "      border-color: transparent;\n",
              "      border-right-color: var(--fill-color);\n",
              "    }\n",
              "    80% {\n",
              "      border-color: transparent;\n",
              "      border-right-color: var(--fill-color);\n",
              "      border-bottom-color: var(--fill-color);\n",
              "    }\n",
              "    90% {\n",
              "      border-color: transparent;\n",
              "      border-bottom-color: var(--fill-color);\n",
              "    }\n",
              "  }\n",
              "</style>\n",
              "\n",
              "  <script>\n",
              "    async function quickchart(key) {\n",
              "      const quickchartButtonEl =\n",
              "        document.querySelector('#' + key + ' button');\n",
              "      quickchartButtonEl.disabled = true;  // To prevent multiple clicks.\n",
              "      quickchartButtonEl.classList.add('colab-df-spinner');\n",
              "      try {\n",
              "        const charts = await google.colab.kernel.invokeFunction(\n",
              "            'suggestCharts', [key], {});\n",
              "      } catch (error) {\n",
              "        console.error('Error during call to suggestCharts:', error);\n",
              "      }\n",
              "      quickchartButtonEl.classList.remove('colab-df-spinner');\n",
              "      quickchartButtonEl.classList.add('colab-df-quickchart-complete');\n",
              "    }\n",
              "    (() => {\n",
              "      let quickchartButtonEl =\n",
              "        document.querySelector('#df-a68beaf0-fedc-4a48-9b3e-488462029236 button');\n",
              "      quickchartButtonEl.style.display =\n",
              "        google.colab.kernel.accessAllowed ? 'block' : 'none';\n",
              "    })();\n",
              "  </script>\n",
              "</div>\n",
              "\n",
              "    </div>\n",
              "  </div>\n"
            ],
            "application/vnd.google.colaboratory.intrinsic+json": {
              "type": "dataframe",
              "variable_name": "df",
              "summary": "{\n  \"name\": \"df\",\n  \"rows\": 1000,\n  \"fields\": [\n    {\n      \"column\": \"Region\",\n      \"properties\": {\n        \"dtype\": \"category\",\n        \"num_unique_values\": 4,\n        \"samples\": [\n          \"West\",\n          \"South\",\n          \"East\"\n        ],\n        \"semantic_type\": \"\",\n        \"description\": \"\"\n      }\n    },\n    {\n      \"column\": \"Temperature\",\n      \"properties\": {\n        \"dtype\": \"number\",\n        \"std\": 4.979438485107371,\n        \"min\": 8.065931192558502,\n        \"max\": 42.4793889480005,\n        \"num_unique_values\": 1000,\n        \"samples\": [\n          20.50569696520704,\n          28.24044182330205,\n          23.2057679154354\n        ],\n        \"semantic_type\": \"\",\n        \"description\": \"\"\n      }\n    },\n    {\n      \"column\": \"Rainfall\",\n      \"properties\": {\n        \"dtype\": \"number\",\n        \"std\": 199.53759507402538,\n        \"min\": -167.9000356508484,\n        \"max\": 1084.1505131771762,\n        \"num_unique_values\": 1000,\n        \"samples\": [\n          537.2975907933901,\n          304.2381578401878,\n          588.4158073602016\n        ],\n        \"semantic_type\": \"\",\n        \"description\": \"\"\n      }\n    },\n    {\n      \"column\": \"Soil_Type\",\n      \"properties\": {\n        \"dtype\": \"category\",\n        \"num_unique_values\": 3,\n        \"samples\": [\n          \"Clayey\",\n          \"Sandy\",\n          \"Loamy\"\n        ],\n        \"semantic_type\": \"\",\n        \"description\": \"\"\n      }\n    },\n    {\n      \"column\": \"Fertilizer_Usage\",\n      \"properties\": {\n        \"dtype\": \"number\",\n        \"std\": 71.69783026591605,\n        \"min\": 50.519129400020304,\n        \"max\": 299.76237452591124,\n        \"num_unique_values\": 1000,\n        \"samples\": [\n          69.90126924812641,\n          75.63229955695034,\n          228.9339816026988\n        ],\n        \"semantic_type\": \"\",\n        \"description\": \"\"\n      }\n    },\n    {\n      \"column\": \"Pesticide_Usage\",\n      \"properties\": {\n        \"dtype\": \"number\",\n        \"std\": 11.478613864976483,\n        \"min\": 10.025100665138249,\n        \"max\": 49.99396977945601,\n        \"num_unique_values\": 1000,\n        \"samples\": [\n          20.644318246771967,\n          30.805393911387394,\n          42.74372921492432\n        ],\n        \"semantic_type\": \"\",\n        \"description\": \"\"\n      }\n    },\n    {\n      \"column\": \"Irrigation\",\n      \"properties\": {\n        \"dtype\": \"number\",\n        \"std\": 0,\n        \"min\": 0,\n        \"max\": 1,\n        \"num_unique_values\": 2,\n        \"samples\": [\n          0,\n          1\n        ],\n        \"semantic_type\": \"\",\n        \"description\": \"\"\n      }\n    },\n    {\n      \"column\": \"Crop_Variety\",\n      \"properties\": {\n        \"dtype\": \"category\",\n        \"num_unique_values\": 3,\n        \"samples\": [\n          \"Variety B\",\n          \"Variety A\"\n        ],\n        \"semantic_type\": \"\",\n        \"description\": \"\"\n      }\n    },\n    {\n      \"column\": \"Yield\",\n      \"properties\": {\n        \"dtype\": \"number\",\n        \"std\": 10.181350638638047,\n        \"min\": -8.426900494163363,\n        \"max\": 54.415047077393766,\n        \"num_unique_values\": 1000,\n        \"samples\": [\n          30.293003738439257,\n          18.196936511621285\n        ],\n        \"semantic_type\": \"\",\n        \"description\": \"\"\n      }\n    }\n  ]\n}"
            }
          },
          "metadata": {},
          "execution_count": 2
        }
      ],
      "source": [
        "# Load dataset\n",
        "df= pd.read_csv(\"https://raw.githubusercontent.com/Explore-AI/Public-Data/master/Data/Python/Crop_yield.csv\")\n",
        "df.head(5)"
      ]
    },
    {
      "cell_type": "markdown",
      "metadata": {
        "id": "ISH-1dU9db6T"
      },
      "source": [
        "### Preparing the dataset\n",
        "\n",
        "In the code below, we prepare our dataset for modeling by encoding categorical variables to convert them to a numeric format."
      ]
    },
    {
      "cell_type": "code",
      "execution_count": 3,
      "metadata": {
        "id": "5_fVun42db6U"
      },
      "outputs": [],
      "source": [
        "# Dummy Variable Encoding for categorical variables\n",
        "df_encoded = pd.get_dummies(df, drop_first=True)"
      ]
    },
    {
      "cell_type": "markdown",
      "metadata": {
        "id": "zFL9JqP-db6V"
      },
      "source": [
        "### Exercise 1\n",
        "\n",
        "Create a function named `train_rf_model` to train and evaluate a random forest regression model on the encoded dataset.\n",
        "\n",
        "The function should take in 3 parameters:\n",
        "- DataFrame containing the encoded features\n",
        "- A string containing the name of the target variable\n",
        "- The number of estimators for the random forest\n",
        "\n",
        "It then returns:\n",
        "- The trained model object\n",
        "- The RMSE and R<sup>2</sup> scores of the model's performance on the test set."
      ]
    },
    {
      "cell_type": "code",
      "execution_count": null,
      "metadata": {
        "id": "r0azgTcVdb6W"
      },
      "outputs": [],
      "source": [
        "# Your solution here...\n"
      ]
    },
    {
      "cell_type": "markdown",
      "metadata": {
        "id": "x4rxH7CPdb6X"
      },
      "source": [
        "### Exercise 2\n",
        "\n",
        "Use the function you have defined in **Exercise 1** to train and evaluate three different random forest regression models with each having the following number of estimators respectively: `50`, `100`, and `200`. Store the results in a dictionary."
      ]
    },
    {
      "cell_type": "code",
      "execution_count": null,
      "metadata": {
        "id": "vdNBaWbodb6Z"
      },
      "outputs": [],
      "source": [
        "# Your solution here..."
      ]
    },
    {
      "cell_type": "markdown",
      "metadata": {
        "id": "Hl830qnjdb6a"
      },
      "source": [
        "### Exercise 3\n",
        "\n",
        "Say we wish to understand which features have the most impact on crop yield predictions.\n",
        "\n",
        "Use the `feature_importances_` attribute from our lastly trained random forest model in **Exercise 2** to return a series containing the feature importance score for each of the features in our dataset, sorted in descending order."
      ]
    },
    {
      "cell_type": "code",
      "execution_count": null,
      "metadata": {
        "id": "v0ZhynbZdb6b"
      },
      "outputs": [],
      "source": [
        "# Your solution here..."
      ]
    },
    {
      "cell_type": "markdown",
      "metadata": {
        "id": "E46r6E3-db6c"
      },
      "source": [
        "## Solutions"
      ]
    },
    {
      "cell_type": "markdown",
      "metadata": {
        "id": "u2y_zi1wdb6d"
      },
      "source": [
        "### Exercise 1"
      ]
    },
    {
      "cell_type": "code",
      "execution_count": 4,
      "metadata": {
        "id": "iwA1lMpCdb6d"
      },
      "outputs": [],
      "source": [
        "def train_rf_model(data, target_variable, n_estimators):\n",
        "\n",
        "    # Splitting the dataset into features and target variable\n",
        "    X = data.drop(target_variable, axis=1)  # Features\n",
        "    y = data[target_variable]  # Target variable\n",
        "\n",
        "    # Splitting the dataset into training and testing sets\n",
        "    X_train, X_test, y_train, y_test = train_test_split(X, y, test_size=0.2, random_state=42)\n",
        "\n",
        "    # Initializing the RandomForestRegressor with n_estimators\n",
        "    rf_model = RandomForestRegressor(n_estimators=n_estimators, random_state=42)\n",
        "\n",
        "    # Training the model on the training set\n",
        "    rf_model.fit(X_train, y_train)\n",
        "\n",
        "    # Making predictions on the test set\n",
        "    y_pred = rf_model.predict(X_test)\n",
        "\n",
        "    # Evaluating the model\n",
        "    mse = metrics.mean_squared_error(y_test, y_pred)  # Setting squared=False returns the RMSE\n",
        "    r2 = metrics.r2_score(y_test, y_pred)\n",
        "\n",
        "    # Return the trained model and its performance metrics\n",
        "    return rf_model, {'MSE': mse, 'R2': r2}\n"
      ]
    },
    {
      "cell_type": "markdown",
      "metadata": {
        "id": "edALQ_yvdb6f"
      },
      "source": [
        "The function `train_rf_model` is designed to train and evaluate a random forest regression model.\n",
        "\n",
        "It takes 3 parameters, `data`, `target_variable`, `n_estimators`.\n",
        "\n",
        "The function returns two items: the trained random forest model `rf_model` and a dictionary containing the evaluation metrics, `mse` and `r2`."
      ]
    },
    {
      "cell_type": "markdown",
      "metadata": {
        "id": "zMlgaF46db6f"
      },
      "source": [
        "### Exercise 2"
      ]
    },
    {
      "cell_type": "code",
      "execution_count": 5,
      "metadata": {
        "colab": {
          "base_uri": "https://localhost:8080/"
        },
        "id": "-1CDJaQ1db6g",
        "outputId": "0c685f6a-c191-4286-9fe7-28abcabb8f22"
      },
      "outputs": [
        {
          "output_type": "execute_result",
          "data": {
            "text/plain": [
              "{'50 trees': {'MSE': 0.739261264251345, 'R2': 0.9920180175887953},\n",
              " '100 trees': {'MSE': 0.7288864859605081, 'R2': 0.9921300365756436},\n",
              " '200 trees': {'MSE': 0.7200078994393476, 'R2': 0.9922259008186051}}"
            ]
          },
          "metadata": {},
          "execution_count": 5
        }
      ],
      "source": [
        "# Number of estimators to evaluate\n",
        "estimators_list = [50, 100, 200]\n",
        "\n",
        "# Dictionary to store results\n",
        "results = {}\n",
        "\n",
        "# Train and evaluate models with different numbers of estimators\n",
        "for n in estimators_list:\n",
        "    # Store the entire returned dictionary as the value for each key\n",
        "    model, metric = train_rf_model(df_encoded, 'Yield', n)\n",
        "    results[f\"{n} trees\"] = metric\n",
        "\n",
        "results"
      ]
    },
    {
      "cell_type": "markdown",
      "metadata": {
        "id": "Fc6qv7fZdb6h"
      },
      "source": [
        "In the code above, we use the previously created function to train and evaluate multiple random forest models, each with a different number of trees (estimators).\n",
        "\n",
        "The for loop iterates over each value in `estimators_list`, where it calls the `train_rf_model()` function, passing the required parameters including the current number of estimators `n` as arguments.\n",
        "\n",
        "The two items returned by the function are stored in separate variables, `model` and `metric`.\n",
        "\n",
        "The `results` dictionary is then used to store the evaluation metrics for each model trained with a different number of trees. The keys are strings indicating the number of trees, and the values are the dictionary of metrics returned by the function."
      ]
    },
    {
      "cell_type": "markdown",
      "metadata": {
        "id": "l41xbd5Qdb6h"
      },
      "source": [
        "### Exercise 3"
      ]
    },
    {
      "cell_type": "code",
      "execution_count": 6,
      "metadata": {
        "colab": {
          "base_uri": "https://localhost:8080/"
        },
        "id": "G9H5eXZhdb6i",
        "outputId": "bb7adf7c-aa78-418f-c6e7-45c5d47e13a8"
      },
      "outputs": [
        {
          "output_type": "execute_result",
          "data": {
            "text/plain": [
              "Rainfall                  0.978910\n",
              "Fertilizer_Usage          0.016670\n",
              "Temperature               0.001971\n",
              "Pesticide_Usage           0.001102\n",
              "Irrigation                0.000251\n",
              "Crop_Variety_Variety B    0.000202\n",
              "Region_West               0.000194\n",
              "Soil_Type_Loamy           0.000161\n",
              "Soil_Type_Sandy           0.000158\n",
              "Crop_Variety_Variety C    0.000143\n",
              "Region_North              0.000120\n",
              "Region_South              0.000118\n",
              "dtype: float64"
            ]
          },
          "metadata": {},
          "execution_count": 6
        }
      ],
      "source": [
        "# Extract feature importances from the model\n",
        "feature_importances = model.feature_importances_\n",
        "\n",
        "# Get the names of the features, excluding the target variable 'Yield'\n",
        "feature_names =df_encoded.drop('Yield', axis=1).columns\n",
        "\n",
        "# Create a pandas Series\n",
        "importances = pd.Series(feature_importances, index=feature_names)\n",
        "\n",
        "# Sort the feature importances in descending order\n",
        "sorted_importances = importances.sort_values(ascending=False)\n",
        "sorted_importances"
      ]
    },
    {
      "cell_type": "markdown",
      "metadata": {
        "id": "YKUGSemhdb6i"
      },
      "source": [
        "In the code above, we use the `feature_importances_` attribute of the trained random forest model to extract the importance scores for each feature.\n",
        "\n",
        "The variable `feature_names` stores the list of feature names that were used to train the model. This will be used for mapping each importance score to its corresponding feature name.\n",
        "\n",
        "`importances` is a pandas series object where each feature's importance score is associated with its name.\n",
        "\n",
        "In `sorted_importances`, we get the importances sorted in descending order to get a quick view of the features considered most important by the model."
      ]
    },
    {
      "cell_type": "markdown",
      "metadata": {
        "id": "7IPiPU7Hdb6j"
      },
      "source": [
        "> Which top 2 features contribute the most to the model's predictive ability?\n",
        "\n",
        "Understanding feature importance and the contribution of each variable to the model's predictions offers us an opportunity to streamline our models. This understanding enables us to focus on the most influential features, thereby reducing model complexity without significantly sacrificing performance.\n",
        "\n",
        "In refining your model, you should consider an experiment: retrain the model using only the subset of features that have demonstrated the highest importance scores. This encourages an exploration into how much we can reduce complexity while maintaining, or even potentially improving, model accuracy."
      ]
    },
    {
      "cell_type": "markdown",
      "metadata": {
        "id": "GYo7Z1tsdb6j"
      },
      "source": [
        "<div align=\"center\" style=\" font-size: 80%; text-align: center; margin: 0 auto\">\n",
        "<img src=\"https://raw.githubusercontent.com/Explore-AI/Pictures/master/ExploreAI_logos/EAI_Blue_Dark.png\"  style=\"width:200px\";/>\n",
        "</div>"
      ]
    }
  ],
  "metadata": {
    "colab": {
      "provenance": [],
      "toc_visible": true,
      "include_colab_link": true
    },
    "interpreter": {
      "hash": "6b5ebbc2c6bde2831bc6c0426f75aca8137ccfc69d329557556ed73faee126ae"
    },
    "kernelspec": {
      "display_name": "Python 3 (ipykernel)",
      "language": "python",
      "name": "python3"
    },
    "language_info": {
      "codemirror_mode": {
        "name": "ipython",
        "version": 3
      },
      "file_extension": ".py",
      "mimetype": "text/x-python",
      "name": "python",
      "nbconvert_exporter": "python",
      "pygments_lexer": "ipython3",
      "version": "3.11.4"
    }
  },
  "nbformat": 4,
  "nbformat_minor": 0
}